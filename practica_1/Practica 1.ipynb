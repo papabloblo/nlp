{
 "cells": [
  {
   "cell_type": "code",
   "execution_count": 1,
   "metadata": {
    "collapsed": true
   },
   "outputs": [],
   "source": [
    "#!/usr/bin/env python\n",
    "# -*- coding: utf-8 -*-\n",
    "\n",
    "\n",
    "import sys\n",
    "from collections import Counter\n",
    "import nltk\n",
    "from nltk.tokenize import word_tokenize\n",
    "from nltk.probability import FreqDist"
   ]
  },
  {
   "cell_type": "code",
   "execution_count": 2,
   "metadata": {
    "collapsed": true
   },
   "outputs": [],
   "source": [
    "reload(sys)  \n",
    "sys.setdefaultencoding('utf8')"
   ]
  },
  {
   "cell_type": "code",
   "execution_count": 3,
   "metadata": {
    "collapsed": true
   },
   "outputs": [],
   "source": [
    "#Lectura del fichero de texto\n",
    "f = open ('instrumentos.txt')\n",
    "freqdist = nltk.FreqDist()\n",
    "words=nltk.word_tokenize(f.read())\n",
    "fd = nltk.FreqDist(word.lower() for word in words)\n",
    "fdf= fd.most_common(50)"
   ]
  },
  {
   "cell_type": "code",
   "execution_count": 11,
   "metadata": {},
   "outputs": [
    {
     "data": {
      "text/plain": [
       "'(de,32) (,,30) (.,23) (que,14) (con,13) (instrumento,11) (musical,11) (y,9) (un,7) (se,7) (el,6) (por,6) (los,6) (m\\xc3\\xa1s,5) (en,5) (forma,4) (la,4) (o,4) (su,4) (cuerda,4) (entre,4) (dos,4) (madera,3) (sonar,3) (caja,3) (una,3) (sonidos,3) (seg\\xc3\\xban,3) (viento,3) (cuerdas,3) (generalmente,3) (resonancia,3) (grande,3) (arco,3) (metal,3) (hacen,3) (m\\xc3\\xa1stil,2) (peque\\xc3\\xb1o,2) (especie,2) (desde,2) (largo,2) (cuyos,2) (tubo,2) (sus,2) (tocado,2) (dedos,2) (llaves,2) (trompeta,2) (formado,2) (contrabajo,2) '"
      ]
     },
     "execution_count": 11,
     "metadata": {},
     "output_type": "execute_result"
    }
   ],
   "source": [
    "'Palabras del texto ordenadas por frecuencia'\n",
    "t=''\n",
    "for w in fdf:\n",
    "    t+='('+w[0]+','+str(w[1])+') '\n",
    "t"
   ]
  },
  {
   "cell_type": "raw",
   "metadata": {},
   "source": [
    "print(fdf)"
   ]
  },
  {
   "cell_type": "code",
   "execution_count": 9,
   "metadata": {},
   "outputs": [
    {
     "data": {
      "text/plain": [
       "'(de,32) (,,30) (.,23) (que,14) (con,13) (instrumento,11) (musical,11) (y,9) (un,7) (se,7) (el,6) (por,6) (los,6) (m\\xc3\\xa1s,5) (en,5) (forma,4) (la,4) (o,4) (su,4) (cuerda,4) (entre,4) (dos,4) (madera,3) (sonar,3) (caja,3) (una,3) (sonidos,3) (seg\\xc3\\xban,3) (viento,3) (cuerdas,3) (generalmente,3) (resonancia,3) (grande,3) (arco,3) (metal,3) (hacen,3) (m\\xc3\\xa1stil,2) (peque\\xc3\\xb1o,2) (especie,2) (desde,2) (largo,2) (cuyos,2) (tubo,2) (sus,2) (tocado,2) (dedos,2) (llaves,2) (trompeta,2) (formado,2) (contrabajo,2) '"
      ]
     },
     "execution_count": 9,
     "metadata": {},
     "output_type": "execute_result"
    }
   ],
   "source": [
    "t"
   ]
  },
  {
   "cell_type": "code",
   "execution_count": 12,
   "metadata": {
    "collapsed": true
   },
   "outputs": [],
   "source": [
    "print 'hola'"
   ]
  },
  {
   "cell_type": "code",
   "execution_count": null,
   "metadata": {
    "collapsed": true
   },
   "outputs": [],
   "source": []
  }
 ],
 "metadata": {
  "kernelspec": {
   "display_name": "Python 2",
   "language": "python",
   "name": "python2"
  },
  "language_info": {
   "codemirror_mode": {
    "name": "ipython",
    "version": 2
   },
   "file_extension": ".py",
   "mimetype": "text/x-python",
   "name": "python",
   "nbconvert_exporter": "python",
   "pygments_lexer": "ipython2",
   "version": "2.7.14"
  }
 },
 "nbformat": 4,
 "nbformat_minor": 2
}
